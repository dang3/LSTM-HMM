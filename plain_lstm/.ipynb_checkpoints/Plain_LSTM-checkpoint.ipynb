{
 "cells": [
  {
   "cell_type": "code",
   "execution_count": 1,
   "metadata": {},
   "outputs": [],
   "source": [
    "import tensorflow as tf\n",
    "from tensorflow.python import keras\n",
    "import numpy as np\n",
    "from sklearn.model_selection import train_test_split\n",
    "import data_loader"
   ]
  },
  {
   "cell_type": "markdown",
   "metadata": {},
   "source": [
    "## Verify version"
   ]
  },
  {
   "cell_type": "code",
   "execution_count": 2,
   "metadata": {},
   "outputs": [
    {
     "name": "stdout",
     "output_type": "stream",
     "text": [
      "2.2.4-tf\n",
      "2.0.0\n"
     ]
    }
   ],
   "source": [
    "print(keras.__version__)\n",
    "print(tf.__version__)"
   ]
  },
  {
   "cell_type": "markdown",
   "metadata": {},
   "source": [
    "## Global Variables"
   ]
  },
  {
   "cell_type": "code",
   "execution_count": 3,
   "metadata": {},
   "outputs": [],
   "source": [
    "allFilesDir = '../data/samples/'\n",
    "malFamFileDir = '../data/DB_RELEASE1.0.sql'\n",
    "malwareDir = allFilesDir + \"malware/\"\n",
    "benignDir = allFilesDir + \"benign/\"\n",
    "keepAmt = 29\n",
    "lastKey = \"other\"\n",
    "numberToClassify = 2\n",
    "\n",
    "maxOpcodeLen = 10000\n",
    "embedding_vector_len = 64\n",
    "lstm_num_units = 150\n",
    "batch_size = 64\n",
    "num_epochs = 20\n",
    "test_size= 0.2\n",
    "checkpoint_path = 'training_checkpoint.keras'\n",
    "log_dir = 'logs/'"
   ]
  },
  {
   "cell_type": "code",
   "execution_count": 4,
   "metadata": {},
   "outputs": [],
   "source": [
    "# 0 for winwebsec, 1 for zbot\n",
    "trainingData, numLabels = data_loader.getTrainData_malware(malFamFileDir, \n",
    "                                                           allFilesDir,\n",
    "                                                           malwareDir,\n",
    "                                                           maxOpcodeLen, \n",
    "                                                           lastKey,\n",
    "                                                           numberToClassify,\n",
    "                                                           keepAmt)\n",
    "\n",
    "\n",
    "\n"
   ]
  },
  {
   "cell_type": "code",
   "execution_count": null,
   "metadata": {},
   "outputs": [],
   "source": [
    "print(numLabels)"
   ]
  },
  {
   "cell_type": "code",
   "execution_count": 15,
   "metadata": {
    "scrolled": true
   },
   "outputs": [
    {
     "name": "stdout",
     "output_type": "stream",
     "text": [
      "200\n",
      "130\n",
      "train_set shape: (264, 10000)\n",
      "train_labels shape: (264, 1)\n",
      "test_set shape: (66, 10000)\n",
      "test_labels shape: (66, 1)\n"
     ]
    }
   ],
   "source": [
    "# labels: 1 for malware, 0 for benign\n",
    "\n",
    "mal_train_set = populate_train_set(mal_handler)\n",
    "mal_labels = np.ones( shape=(len(mal_train_set),1) )\n",
    "\n",
    "ben_train_set = populate_train_set(ben_handler)\n",
    "ben_labels = np.zeros( shape=(len(ben_train_set),1) )\n",
    "\n",
    "mal_train_set = mal_train_set[:200]\n",
    "mal_labels = mal_labels[:200]\n",
    "\n",
    "train_set = np.concatenate((mal_train_set, ben_train_set), axis=0)\n",
    "train_set = tf.keras.preprocessing.sequence.pad_sequences(train_set, maxlen=max_opcode_len)\n",
    "train_labels = np.concatenate((mal_labels, ben_labels), axis=0)\n",
    "\n",
    "train_set, test_set, train_labels, test_labels = train_test_split(train_set, train_labels, test_size=test_size)\n",
    "\n",
    "print(len(mal_train_set))\n",
    "print(len(ben_train_set))\n",
    "print(\"train_set shape: {}\".format(train_set.shape))\n",
    "print(\"train_labels shape: {}\".format(train_labels.shape))\n",
    "print(\"test_set shape: {}\".format(test_set.shape))\n",
    "print(\"test_labels shape: {}\".format(test_labels.shape))"
   ]
  },
  {
   "cell_type": "markdown",
   "metadata": {},
   "source": [
    "## Make the model"
   ]
  },
  {
   "cell_type": "code",
   "execution_count": 16,
   "metadata": {},
   "outputs": [],
   "source": [
    "model = tf.keras.models.Sequential()\n",
    "model.add(tf.keras.layers.Embedding(input_dim=keep_amt+1,\n",
    "                                    output_dim=embedding_vector_len,\n",
    "                                    input_length=max_opcode_len))\n",
    "model.add(tf.keras.layers.Dropout(0.2))\n",
    "model.add(tf.keras.layers.LSTM(lstm_num_units))\n",
    "model.add(tf.keras.layers.Dropout(0.2))\n",
    "model.add(tf.keras.layers.Dense(1, activation='sigmoid'))\n",
    "\n",
    "\n",
    "optimizer = tf.keras.optimizers.Adam()\n",
    "\n",
    "model.compile(loss='binary_crossentropy', optimizer=optimizer, metrics=['accuracy'])"
   ]
  },
  {
   "cell_type": "code",
   "execution_count": 17,
   "metadata": {},
   "outputs": [
    {
     "name": "stdout",
     "output_type": "stream",
     "text": [
      "Train on 264 samples\n",
      "Epoch 1/20\n",
      "264/264 [==============================] - 4s 16ms/sample - loss: 0.6840 - accuracy: 0.6136\n",
      "Epoch 2/20\n",
      "264/264 [==============================] - 2s 9ms/sample - loss: 0.6476 - accuracy: 0.7879\n",
      "Epoch 3/20\n",
      "264/264 [==============================] - 2s 8ms/sample - loss: 0.7530 - accuracy: 0.7273\n",
      "Epoch 4/20\n",
      "264/264 [==============================] - 2s 8ms/sample - loss: 0.4278 - accuracy: 0.8750\n",
      "Epoch 5/20\n",
      "264/264 [==============================] - 2s 8ms/sample - loss: 0.3463 - accuracy: 0.8902\n",
      "Epoch 6/20\n",
      "264/264 [==============================] - 2s 9ms/sample - loss: 0.2404 - accuracy: 0.9508\n",
      "Epoch 7/20\n",
      "264/264 [==============================] - 2s 8ms/sample - loss: 0.2885 - accuracy: 0.8977\n",
      "Epoch 8/20\n",
      "264/264 [==============================] - 2s 8ms/sample - loss: 0.2321 - accuracy: 0.9659\n",
      "Epoch 9/20\n",
      "264/264 [==============================] - 2s 8ms/sample - loss: 0.4797 - accuracy: 0.8295\n",
      "Epoch 10/20\n",
      "264/264 [==============================] - 2s 8ms/sample - loss: 0.1176 - accuracy: 0.9697\n",
      "Epoch 11/20\n",
      "264/264 [==============================] - 2s 8ms/sample - loss: 0.1074 - accuracy: 0.9924\n",
      "Epoch 12/20\n",
      "264/264 [==============================] - 2s 8ms/sample - loss: 0.0995 - accuracy: 0.9924\n",
      "Epoch 13/20\n",
      "264/264 [==============================] - 2s 9ms/sample - loss: 0.0779 - accuracy: 0.9924\n",
      "Epoch 14/20\n",
      "264/264 [==============================] - 2s 8ms/sample - loss: 0.1814 - accuracy: 0.9205\n",
      "Epoch 15/20\n",
      "264/264 [==============================] - 2s 9ms/sample - loss: 0.1029 - accuracy: 0.9659\n",
      "Epoch 16/20\n",
      "264/264 [==============================] - 2s 9ms/sample - loss: 0.0840 - accuracy: 0.9848\n",
      "Epoch 17/20\n",
      "264/264 [==============================] - 2s 8ms/sample - loss: 0.0718 - accuracy: 0.9886\n",
      "Epoch 18/20\n",
      "264/264 [==============================] - 2s 9ms/sample - loss: 0.0676 - accuracy: 0.9886\n",
      "Epoch 19/20\n",
      "264/264 [==============================] - 2s 9ms/sample - loss: 0.0650 - accuracy: 0.9886\n",
      "Epoch 20/20\n",
      "264/264 [==============================] - 2s 9ms/sample - loss: 0.0590 - accuracy: 0.9886\n"
     ]
    },
    {
     "data": {
      "text/plain": [
       "<tensorflow.python.keras.callbacks.History at 0x23d017a6f88>"
      ]
     },
     "execution_count": 17,
     "metadata": {},
     "output_type": "execute_result"
    }
   ],
   "source": [
    "model.fit(x=train_set,\n",
    "          y=train_labels,\n",
    "          batch_size=batch_size,\n",
    "          epochs=num_epochs,)"
   ]
  },
  {
   "cell_type": "markdown",
   "metadata": {},
   "source": [
    "## Test the model"
   ]
  },
  {
   "cell_type": "code",
   "execution_count": 18,
   "metadata": {},
   "outputs": [
    {
     "name": "stdout",
     "output_type": "stream",
     "text": [
      "Accuracy: 96.97%\n"
     ]
    }
   ],
   "source": [
    "scores = model.evaluate(test_set, test_labels, verbose=0)\n",
    "print(\"Accuracy: %0.2f%%\" % (scores[1]*100))"
   ]
  },
  {
   "cell_type": "code",
   "execution_count": null,
   "metadata": {},
   "outputs": [],
   "source": []
  }
 ],
 "metadata": {
  "kernelspec": {
   "display_name": "Python 3",
   "language": "python",
   "name": "python3"
  },
  "language_info": {
   "codemirror_mode": {
    "name": "ipython",
    "version": 3
   },
   "file_extension": ".py",
   "mimetype": "text/x-python",
   "name": "python",
   "nbconvert_exporter": "python",
   "pygments_lexer": "ipython3",
   "version": "3.7.4"
  },
  "varInspector": {
   "cols": {
    "lenName": 16,
    "lenType": 16,
    "lenVar": 40
   },
   "kernels_config": {
    "python": {
     "delete_cmd_postfix": "",
     "delete_cmd_prefix": "del ",
     "library": "var_list.py",
     "varRefreshCmd": "print(var_dic_list())"
    },
    "r": {
     "delete_cmd_postfix": ") ",
     "delete_cmd_prefix": "rm(",
     "library": "var_list.r",
     "varRefreshCmd": "cat(var_dic_list()) "
    }
   },
   "types_to_exclude": [
    "module",
    "function",
    "builtin_function_or_method",
    "instance",
    "_Feature"
   ],
   "window_display": false
  }
 },
 "nbformat": 4,
 "nbformat_minor": 2
}
