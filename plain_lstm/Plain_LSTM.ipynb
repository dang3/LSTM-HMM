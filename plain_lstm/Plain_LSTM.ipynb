{
 "cells": [
  {
   "cell_type": "code",
   "execution_count": 27,
   "metadata": {},
   "outputs": [],
   "source": [
    "import tensorflow as tf\n",
    "from tensorflow.python import keras\n",
    "import numpy as np\n",
    "import process\n",
    "from file_handler import File_Handler"
   ]
  },
  {
   "cell_type": "markdown",
   "metadata": {},
   "source": [
    "## Verify version"
   ]
  },
  {
   "cell_type": "code",
   "execution_count": 28,
   "metadata": {},
   "outputs": [
    {
     "name": "stdout",
     "output_type": "stream",
     "text": [
      "2.2.4-tf\n",
      "2.0.0\n"
     ]
    }
   ],
   "source": [
    "print(keras.__version__)\n",
    "print(tf.__version__)"
   ]
  },
  {
   "cell_type": "markdown",
   "metadata": {},
   "source": [
    "## Global Variables"
   ]
  },
  {
   "cell_type": "code",
   "execution_count": 3,
   "metadata": {},
   "outputs": [],
   "source": [
    "malware_path = \"../data/malware/\"\n",
    "benign_path = \"../data/benign/\"\n",
    "keep_amt = 29\n",
    "last_key = \"other\"\n",
    "\n",
    "max_opcode_len = 9000\n",
    "min_opcode_len = 1000\n",
    "lstm_num_units = 128\n",
    "batch_size = 2\n",
    "num_epochs = 10\n",
    "checkpoint_path = 'training_checkpoint.keras'\n",
    "log_dir = 'logs/'"
   ]
  },
  {
   "cell_type": "code",
   "execution_count": 4,
   "metadata": {},
   "outputs": [
    {
     "name": "stdout",
     "output_type": "stream",
     "text": [
      "{'mov': 0, 'push': 1, 'add': 2, 'call': 3, 'cmp': 4, 'jmp': 5, 'xor': 6, 'pop': 7, 'jz': 8, 'jnz': 9, 'lea': 10, 'sub': 11, 'test': 12, 'retn': 13, 'or': 14, 'and': 15, 'inc': 16, 'nop': 17, 'dec': 18, 'shr': 19, 'movzx': 20, 'jb': 21, 'sbb': 22, 'adc': 23, 'shl': 24, 'leave': 25, 'imul': 26, 'jnb': 27, 'jbe': 28, 'other': 29}\n",
      "8877\n"
     ]
    }
   ],
   "source": [
    "mal_handler, ben_handler, most_common_opcodes = process.get_most_common_opcodes(\n",
    "                                                                    keep_amt = keep_amt, \n",
    "                                                                    last_key = last_key, \n",
    "                                                                    malware_path = malware_path,\n",
    "                                                                    benign_path = benign_path,\n",
    "                                                                    max_opcode_len = max_opcode_len)\n",
    "\n",
    "longest_len = max(mal_handler.get_longest_opcode_seq(), ben_handler.get_longest_opcode_seq())\n",
    "\n",
    "print(most_common_opcodes)\n",
    "print(longest_len)"
   ]
  },
  {
   "cell_type": "code",
   "execution_count": 5,
   "metadata": {},
   "outputs": [],
   "source": [
    "def populate_train_set(file_handler, longest_len):\n",
    "    num_files = file_handler.get_num_files()\n",
    "    train_set = np.zeros(shape=(num_files, longest_len, keep_amt+1), dtype=np.float)\n",
    "\n",
    "    # populate train_set\n",
    "    for file_counter,file in enumerate(file_handler.get_files()):\n",
    "        opcode_counter = 0\n",
    "        with open(file, 'r') as f:\n",
    "            opcode = f.readline()\n",
    "            while opcode:\n",
    "                opcode = opcode.strip()\n",
    "                if opcode in most_common_opcodes:\n",
    "                    opcode_key = most_common_opcodes[opcode]\n",
    "                else:\n",
    "                    opcode_key = most_common_opcodes[last_key]\n",
    "                \n",
    "                train_set[file_counter][opcode_counter][opcode_key] = 1.0\n",
    "                opcode_counter += 1\n",
    "                opcode = f.readline()\n",
    "\n",
    "    return train_set"
   ]
  },
  {
   "cell_type": "code",
   "execution_count": 6,
   "metadata": {
    "scrolled": true
   },
   "outputs": [
    {
     "name": "stdout",
     "output_type": "stream",
     "text": [
      "train_set shape: (7596, 8877, 30)\n",
      "train_labels shape: (7596, 1)\n"
     ]
    }
   ],
   "source": [
    "# labels: 1 for malware, 0 for benign\n",
    "longest_len = max(mal_handler.get_longest_opcode_seq(), ben_handler.get_longest_opcode_seq())\n",
    "\n",
    "mal_train_set = populate_train_set(mal_handler, longest_len)\n",
    "mal_labels = np.ones( shape=(len(mal_train_set),1) )\n",
    "\n",
    "ben_train_set = populate_train_set(ben_handler, longest_len)\n",
    "ben_labels = np.zeros( shape=(len(ben_train_set),1) )\n",
    "\n",
    "train_set = np.concatenate((mal_train_set, ben_train_set), axis=0)\n",
    "train_labels = np.concatenate((mal_labels, ben_labels), axis=0)\n",
    "\n",
    "print(\"train_set shape: {}\".format(train_set.shape))\n",
    "print(\"train_labels shape: {}\".format(train_labels.shape))"
   ]
  },
  {
   "cell_type": "code",
   "execution_count": 7,
   "metadata": {},
   "outputs": [
    {
     "name": "stdout",
     "output_type": "stream",
     "text": [
      "[[1.]\n",
      " [1.]\n",
      " [1.]\n",
      " ...\n",
      " [0.]\n",
      " [0.]\n",
      " [0.]]\n"
     ]
    }
   ],
   "source": [
    "print(train_labels)"
   ]
  },
  {
   "cell_type": "markdown",
   "metadata": {},
   "source": [
    "## Make the model"
   ]
  },
  {
   "cell_type": "code",
   "execution_count": 19,
   "metadata": {},
   "outputs": [],
   "source": [
    "num_opcodes_per_file = len(train_set[0])\n",
    "num_opcodes = keep_amt+1\n",
    "\n",
    "model = tf.keras.Sequential()\n",
    "model.add(tf.keras.layers.LSTM(units=lstm_num_units, input_shape=(num_opcodes_per_file, num_opcodes), activation='sigmoid'))\n",
    "model.add(tf.keras.layers.Dense(2, activation='softmax'))\n",
    "\n",
    "optimizer = tf.keras.optimizers.Adam()\n",
    "model.compile(loss='sparse_categorical_crossentropy', optimizer=optimizer, metrics=['accuracy'])"
   ]
  },
  {
   "cell_type": "code",
   "execution_count": 30,
   "metadata": {},
   "outputs": [],
   "source": [
    "callback_checkpoint = tf.keras.callbacks.ModelCheckpoint(filepath=checkpoint_path,\n",
    "                                                         monitor='val_loss',\n",
    "                                                         verbose=1,\n",
    "                                                         save_weights_only=True,\n",
    "                                                         save_best_only=True)\n",
    "\n",
    "callback_early_stopping = tf.keras.callbacks.EarlyStopping(monitor='val_loss',\n",
    "                                                           patience=3,\n",
    "                                                           verbose=1)\n",
    "\n",
    "callback_tensorboard = tf.keras.callbacks.TensorBoard(log_dir=log_dir,\n",
    "                                                      histogram_freq=0,\n",
    "                                                      write_graph=False)\n",
    "\n",
    "callbacks = [callback_checkpoint,  \n",
    "             callback_tensorboard]"
   ]
  },
  {
   "cell_type": "code",
   "execution_count": 31,
   "metadata": {},
   "outputs": [
    {
     "data": {
      "text/plain": [
       "0.10005265929436545"
      ]
     },
     "execution_count": 31,
     "metadata": {},
     "output_type": "execute_result"
    }
   ],
   "source": [
    "validation_split = 760 / len(train_set)\n",
    "\n",
    "validation_split"
   ]
  },
  {
   "cell_type": "code",
   "execution_count": null,
   "metadata": {},
   "outputs": [
    {
     "name": "stdout",
     "output_type": "stream",
     "text": [
      "Train on 7596 samples\n",
      "Epoch 1/10\n",
      "WARNING:tensorflow:Trace already enabled\n",
      "   2/7596 [..............................] - ETA: 11:20:16 - loss: 0.3455 - accuracy: 1.0000"
     ]
    }
   ],
   "source": [
    "model.fit(x=train_set,\n",
    "          y=train_labels,\n",
    "          batch_size=batch_size,\n",
    "          epochs=num_epochs,\n",
    "          verbose=1,\n",
    "          callbacks=callbacks,\n",
    "          shuffle=True,\n",
    "          validation_split=validation_split)"
   ]
  },
  {
   "cell_type": "code",
   "execution_count": null,
   "metadata": {},
   "outputs": [],
   "source": [
    "print(\"hi\")"
   ]
  },
  {
   "cell_type": "code",
   "execution_count": null,
   "metadata": {},
   "outputs": [],
   "source": []
  }
 ],
 "metadata": {
  "kernelspec": {
   "display_name": "Python 3",
   "language": "python",
   "name": "python3"
  },
  "language_info": {
   "codemirror_mode": {
    "name": "ipython",
    "version": 3
   },
   "file_extension": ".py",
   "mimetype": "text/x-python",
   "name": "python",
   "nbconvert_exporter": "python",
   "pygments_lexer": "ipython3",
   "version": "3.7.4"
  },
  "varInspector": {
   "cols": {
    "lenName": 16,
    "lenType": 16,
    "lenVar": 40
   },
   "kernels_config": {
    "python": {
     "delete_cmd_postfix": "",
     "delete_cmd_prefix": "del ",
     "library": "var_list.py",
     "varRefreshCmd": "print(var_dic_list())"
    },
    "r": {
     "delete_cmd_postfix": ") ",
     "delete_cmd_prefix": "rm(",
     "library": "var_list.r",
     "varRefreshCmd": "cat(var_dic_list()) "
    }
   },
   "types_to_exclude": [
    "module",
    "function",
    "builtin_function_or_method",
    "instance",
    "_Feature"
   ],
   "window_display": false
  }
 },
 "nbformat": 4,
 "nbformat_minor": 2
}
