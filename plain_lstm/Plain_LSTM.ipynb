{
 "cells": [
  {
   "cell_type": "code",
   "execution_count": 1,
   "metadata": {},
   "outputs": [],
   "source": [
    "import tensorflow as tf\n",
    "import numpy as np\n",
    "import process"
   ]
  },
  {
   "cell_type": "markdown",
   "metadata": {},
   "source": [
    "## Verify version"
   ]
  },
  {
   "cell_type": "code",
   "execution_count": 2,
   "metadata": {},
   "outputs": [
    {
     "name": "stdout",
     "output_type": "stream",
     "text": [
      "2.0.0\n"
     ]
    }
   ],
   "source": [
    "print(tf.__version__)"
   ]
  },
  {
   "cell_type": "markdown",
   "metadata": {},
   "source": [
    "## Global Variables"
   ]
  },
  {
   "cell_type": "code",
   "execution_count": 3,
   "metadata": {},
   "outputs": [],
   "source": [
    "malware_path = \"../data/malware/\"\n",
    "benign_path = \"../data/benign/\"\n",
    "keep_amt = 29\n",
    "last_key = \"other\"\n",
    "malware_test_amt = 1000\n",
    "benign_test_amt = 20"
   ]
  },
  {
   "cell_type": "code",
   "execution_count": 4,
   "metadata": {},
   "outputs": [
    {
     "name": "stdout",
     "output_type": "stream",
     "text": [
      "{'mov': 0, 'push': 1, 'add': 2, 'call': 3, 'cmp': 4, 'jmp': 5, 'xor': 6, 'pop': 7, 'jz': 8, 'jnz': 9, 'lea': 10, 'sub': 11, 'test': 12, 'retn': 13, 'or': 14, 'and': 15, 'inc': 16, 'nop': 17, 'dec': 18, 'shr': 19, 'movzx': 20, 'jb': 21, 'sbb': 22, 'adc': 23, 'shl': 24, 'leave': 25, 'imul': 26, 'jnb': 27, 'jbe': 28, 'other': 29}\n"
     ]
    }
   ],
   "source": [
    "malware_files, benign_files, most_common_opcodes = process.get_most_common_opcodes(\n",
    "                                                                    keep_amt=keep_amt, \n",
    "                                                                    last_key = last_key, \n",
    "                                                                    malware_path = malware_path,\n",
    "                                                                    benign_path = benign_path)\n",
    "\n",
    "print(most_common_opcodes)"
   ]
  },
  {
   "cell_type": "code",
   "execution_count": 5,
   "metadata": {},
   "outputs": [
    {
     "ename": "NameError",
     "evalue": "name 'mal_train_set' is not defined",
     "output_type": "error",
     "traceback": [
      "\u001b[1;31m---------------------------------------------------------------------------\u001b[0m",
      "\u001b[1;31mNameError\u001b[0m                                 Traceback (most recent call last)",
      "\u001b[1;32m<ipython-input-5-158fa34566f2>\u001b[0m in \u001b[0;36m<module>\u001b[1;34m\u001b[0m\n\u001b[0;32m      2\u001b[0m \u001b[0mben_train_files\u001b[0m \u001b[1;33m=\u001b[0m \u001b[0mbenign_files\u001b[0m\u001b[1;33m[\u001b[0m\u001b[1;33m:\u001b[0m\u001b[0mlen\u001b[0m\u001b[1;33m(\u001b[0m\u001b[0mbenign_files\u001b[0m\u001b[1;33m)\u001b[0m \u001b[1;33m-\u001b[0m \u001b[0mbenign_test_amt\u001b[0m\u001b[1;33m]\u001b[0m\u001b[1;33m\u001b[0m\u001b[1;33m\u001b[0m\u001b[0m\n\u001b[0;32m      3\u001b[0m \u001b[1;33m\u001b[0m\u001b[0m\n\u001b[1;32m----> 4\u001b[1;33m \u001b[0mmal_test_files\u001b[0m \u001b[1;33m=\u001b[0m \u001b[0mmalware_files\u001b[0m\u001b[1;33m[\u001b[0m\u001b[0mlen\u001b[0m\u001b[1;33m(\u001b[0m\u001b[0mmal_train_set\u001b[0m\u001b[1;33m)\u001b[0m\u001b[1;33m:\u001b[0m\u001b[1;33m]\u001b[0m\u001b[1;33m\u001b[0m\u001b[1;33m\u001b[0m\u001b[0m\n\u001b[0m\u001b[0;32m      5\u001b[0m \u001b[0mben_test_files\u001b[0m \u001b[1;33m=\u001b[0m \u001b[0mbenign_files\u001b[0m\u001b[1;33m[\u001b[0m\u001b[0mlen\u001b[0m\u001b[1;33m(\u001b[0m\u001b[0mben_train_set\u001b[0m\u001b[1;33m)\u001b[0m\u001b[1;33m:\u001b[0m\u001b[1;33m]\u001b[0m\u001b[1;33m\u001b[0m\u001b[1;33m\u001b[0m\u001b[0m\n",
      "\u001b[1;31mNameError\u001b[0m: name 'mal_train_set' is not defined"
     ]
    }
   ],
   "source": [
    "mal_train_files = malware_files[:len(malware_files) - malware_test_amt]\n",
    "ben_train_files = benign_files[:len(benign_files) - benign_test_amt]\n",
    "\n",
    "mal_test_files = malware_files[len(mal_train_set):]\n",
    "ben_test_files = benign_files[len(ben_train_set):]"
   ]
  },
  {
   "cell_type": "code",
   "execution_count": null,
   "metadata": {},
   "outputs": [],
   "source": [
    "vector = list()\n",
    "\n",
    "mal_train_set = list()\n",
    "mal_test_set = list()\n",
    "ben_train_set = list()\n",
    "ben_test_set = list()\n",
    "\n",
    "observation = list()\n",
    "\n",
    "with open(mal_train_files[0], 'r') as file:\n",
    "    opcode = file.readline()\n",
    "    \n",
    "    while opcode:\n",
    "        opcode = opcode.strip()\n",
    "        if opcode in most_common_opcodes:\n",
    "            observation.append(most_common_opcodes[opcode])\n",
    "        else:\n",
    "            observation.append(most_common_opcodes[last_key])\n",
    "        opcode = file.readline()\n",
    "\n",
    "for i in range(len(observation)):\n",
    "    arr = np.zeros(30)\n",
    "    print(observation[i])\n",
    "\n",
    "    \n",
    "\n",
    "        \n",
    "\n",
    "    \n",
    "\n",
    "\n"
   ]
  },
  {
   "cell_type": "code",
   "execution_count": null,
   "metadata": {},
   "outputs": [],
   "source": []
  }
 ],
 "metadata": {
  "kernelspec": {
   "display_name": "Python 3",
   "language": "python",
   "name": "python3"
  },
  "language_info": {
   "codemirror_mode": {
    "name": "ipython",
    "version": 3
   },
   "file_extension": ".py",
   "mimetype": "text/x-python",
   "name": "python",
   "nbconvert_exporter": "python",
   "pygments_lexer": "ipython3",
   "version": "3.7.4"
  }
 },
 "nbformat": 4,
 "nbformat_minor": 2
}
