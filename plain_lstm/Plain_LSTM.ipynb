{
 "cells": [
  {
   "cell_type": "code",
   "execution_count": 5,
   "metadata": {},
   "outputs": [],
   "source": [
    "import tensorflow as tf\n",
    "from tensorflow.python import keras\n",
    "import numpy as np\n",
    "from sklearn.model_selection import train_test_split\n",
    "import data_loader"
   ]
  },
  {
   "cell_type": "markdown",
   "metadata": {},
   "source": [
    "## Verify version"
   ]
  },
  {
   "cell_type": "code",
   "execution_count": 6,
   "metadata": {},
   "outputs": [
    {
     "name": "stdout",
     "output_type": "stream",
     "text": [
      "2.2.4-tf\n",
      "2.0.0\n"
     ]
    }
   ],
   "source": [
    "print(keras.__version__)\n",
    "print(tf.__version__)"
   ]
  },
  {
   "cell_type": "markdown",
   "metadata": {},
   "source": [
    "## Global Variables"
   ]
  },
  {
   "cell_type": "code",
   "execution_count": 7,
   "metadata": {},
   "outputs": [],
   "source": [
    "allFilesDir = '../data/samples/'\n",
    "malFamFileDir = '../data/DB_RELEASE1.0.sql'\n",
    "malwareDir = allFilesDir + \"malware/\"\n",
    "benignDir = allFilesDir + \"benign/\"\n",
    "keepAmt = 29\n",
    "lastKey = \"other\"\n",
    "numberToClassify = 2\n",
    "\n",
    "maxOpcodeLen = 10000\n",
    "embedVectorLen = 64\n",
    "num_lstm_units = 150\n",
    "batch_size = 64\n",
    "num_epochs = 20\n",
    "test_size= 0.2\n",
    "checkpoint_path = 'training_checkpoint.keras'\n",
    "log_dir = 'logs/'"
   ]
  },
  {
   "cell_type": "markdown",
   "metadata": {},
   "source": [
    "## Load the Data"
   ]
  },
  {
   "cell_type": "code",
   "execution_count": 8,
   "metadata": {},
   "outputs": [
    {
     "name": "stdout",
     "output_type": "stream",
     "text": [
      "4272\n",
      "2136\n"
     ]
    }
   ],
   "source": [
    "# 0 for winwebsec, 1 for zbot\n",
    "trainData, numLabels = data_loader.getTrainData_malware(malFamFileDir, \n",
    "                                                           allFilesDir,\n",
    "                                                           malwareDir,\n",
    "                                                           maxOpcodeLen, \n",
    "                                                           lastKey,\n",
    "                                                           numberToClassify,\n",
    "                                                           keepAmt)\n",
    "\n",
    "print(len(trainData))\n",
    "print(numLabels)"
   ]
  },
  {
   "cell_type": "markdown",
   "metadata": {},
   "source": [
    "## Prepare the Data"
   ]
  },
  {
   "cell_type": "code",
   "execution_count": 14,
   "metadata": {},
   "outputs": [],
   "source": [
    "trainSet = list()\n",
    "\n",
    "for t in trainData:\n",
    "    data = list()\n",
    "    for i in t:\n",
    "        data.append( i/float(keepAmt+1) )\n",
    "    trainSet.append(data)"
   ]
  },
  {
   "cell_type": "code",
   "execution_count": 15,
   "metadata": {},
   "outputs": [
    {
     "name": "stdout",
     "output_type": "stream",
     "text": [
      "train_set shape: (3417, 10000, 1)\n",
      "train_labels shape: (3417, 1)\n",
      "test_set shape: (855, 10000, 1)\n",
      "test_labels shape: (855, 1)\n",
      "[[0.        ]\n",
      " [0.        ]\n",
      " [0.        ]\n",
      " ...\n",
      " [0.16666667]\n",
      " [0.16666667]\n",
      " [0.16666667]]\n"
     ]
    }
   ],
   "source": [
    "trainSet = tf.keras.preprocessing.sequence.pad_sequences(trainSet, maxlen=maxOpcodeLen, dtype='float', value=0.0)\n",
    "\n",
    "labels0 = np.zeros(shape=(numLabels,1))\n",
    "labels1 = np.ones(shape=(numLabels,1))\n",
    "trainLabels = np.concatenate((labels0, labels1), axis=0)\n",
    "\n",
    "trainSet, testSet, trainLabels, testLabels = train_test_split(trainSet, trainLabels, test_size=test_size)\n",
    "\n",
    "# reshape trainSet and testSet into 3D arrays\n",
    "trainSet = trainSet[:, :, np.newaxis]\n",
    "testSet = testSet[:, :, np.newaxis]\n",
    "\n",
    "\n",
    "print(\"train_set shape: {}\".format(trainSet.shape))\n",
    "print(\"train_labels shape: {}\".format(trainLabels.shape))\n",
    "print(\"test_set shape: {}\".format(testSet.shape))\n",
    "print(\"test_labels shape: {}\".format(testLabels.shape))\n",
    "print(trainSet[0])"
   ]
  },
  {
   "cell_type": "markdown",
   "metadata": {},
   "source": [
    "## Make the model"
   ]
  },
  {
   "cell_type": "code",
   "execution_count": 16,
   "metadata": {},
   "outputs": [],
   "source": [
    "model = tf.keras.models.Sequential()\n",
    "\n",
    "model.add(tf.keras.layers.LSTM(num_lstm_units))\n",
    "model.add(tf.keras.layers.Dropout(0.2))\n",
    "model.add(tf.keras.layers.Dense(1, activation='sigmoid'))\n",
    "\n",
    "\n",
    "optimizer = tf.keras.optimizers.Adam()\n",
    "\n",
    "model.compile(loss='binary_crossentropy', optimizer=optimizer, metrics=['accuracy'])"
   ]
  },
  {
   "cell_type": "code",
   "execution_count": 17,
   "metadata": {},
   "outputs": [
    {
     "name": "stdout",
     "output_type": "stream",
     "text": [
      "Train on 3417 samples\n",
      "Epoch 1/20\n",
      "3417/3417 [==============================] - 23s 7ms/sample - loss: 0.6775 - accuracy: 0.6283\n",
      "Epoch 2/20\n",
      "3417/3417 [==============================] - 21s 6ms/sample - loss: 0.6490 - accuracy: 0.6936\n",
      "Epoch 3/20\n",
      "3417/3417 [==============================] - 21s 6ms/sample - loss: 0.6534 - accuracy: 0.6933\n",
      "Epoch 4/20\n",
      "3417/3417 [==============================] - 20s 6ms/sample - loss: 0.6417 - accuracy: 0.7117\n",
      "Epoch 5/20\n",
      "3417/3417 [==============================] - 21s 6ms/sample - loss: 0.6264 - accuracy: 0.8267\n",
      "Epoch 6/20\n",
      "3417/3417 [==============================] - 20s 6ms/sample - loss: 0.6058 - accuracy: 0.8586\n",
      "Epoch 7/20\n",
      "3417/3417 [==============================] - 20s 6ms/sample - loss: 0.5666 - accuracy: 0.8586\n",
      "Epoch 8/20\n",
      "3417/3417 [==============================] - 20s 6ms/sample - loss: 0.4309 - accuracy: 0.8507\n",
      "Epoch 9/20\n",
      "3417/3417 [==============================] - 20s 6ms/sample - loss: 0.3544 - accuracy: 0.8765\n",
      "Epoch 10/20\n",
      "3417/3417 [==============================] - 20s 6ms/sample - loss: 0.3111 - accuracy: 0.8911\n",
      "Epoch 11/20\n",
      "3417/3417 [==============================] - 20s 6ms/sample - loss: 0.2752 - accuracy: 0.9028\n",
      "Epoch 12/20\n",
      "3417/3417 [==============================] - 20s 6ms/sample - loss: 0.2535 - accuracy: 0.9084\n",
      "Epoch 13/20\n",
      "3417/3417 [==============================] - 20s 6ms/sample - loss: 0.2396 - accuracy: 0.9151\n",
      "Epoch 14/20\n",
      "3417/3417 [==============================] - 20s 6ms/sample - loss: 0.3388 - accuracy: 0.8847\n",
      "Epoch 15/20\n",
      "3417/3417 [==============================] - 20s 6ms/sample - loss: 0.2802 - accuracy: 0.9028\n",
      "Epoch 16/20\n",
      "3417/3417 [==============================] - 20s 6ms/sample - loss: 0.2747 - accuracy: 0.9028\n",
      "Epoch 17/20\n",
      "3417/3417 [==============================] - 20s 6ms/sample - loss: 0.2398 - accuracy: 0.9157\n",
      "Epoch 18/20\n",
      "3417/3417 [==============================] - 20s 6ms/sample - loss: 0.2312 - accuracy: 0.9160\n",
      "Epoch 19/20\n",
      "3417/3417 [==============================] - 21s 6ms/sample - loss: 0.2474 - accuracy: 0.9005\n",
      "Epoch 20/20\n",
      "3417/3417 [==============================] - 20s 6ms/sample - loss: 0.2307 - accuracy: 0.9175\n"
     ]
    },
    {
     "data": {
      "text/plain": [
       "<tensorflow.python.keras.callbacks.History at 0x1ab805d84c8>"
      ]
     },
     "execution_count": 17,
     "metadata": {},
     "output_type": "execute_result"
    }
   ],
   "source": [
    "model.fit(x=trainSet,\n",
    "          y=trainLabels,\n",
    "          batch_size=batch_size,\n",
    "          epochs=num_epochs,)"
   ]
  },
  {
   "cell_type": "markdown",
   "metadata": {},
   "source": [
    "## Test the model"
   ]
  },
  {
   "cell_type": "code",
   "execution_count": 18,
   "metadata": {},
   "outputs": [
    {
     "name": "stdout",
     "output_type": "stream",
     "text": [
      "Accuracy: 91.11%\n"
     ]
    }
   ],
   "source": [
    "scores = model.evaluate(testSet, testLabels, verbose=0)\n",
    "print(\"Accuracy: %0.2f%%\" % (scores[1]*100))"
   ]
  },
  {
   "cell_type": "code",
   "execution_count": null,
   "metadata": {},
   "outputs": [],
   "source": []
  }
 ],
 "metadata": {
  "kernelspec": {
   "display_name": "Python 3",
   "language": "python",
   "name": "python3"
  },
  "language_info": {
   "codemirror_mode": {
    "name": "ipython",
    "version": 3
   },
   "file_extension": ".py",
   "mimetype": "text/x-python",
   "name": "python",
   "nbconvert_exporter": "python",
   "pygments_lexer": "ipython3",
   "version": "3.7.4"
  },
  "varInspector": {
   "cols": {
    "lenName": 16,
    "lenType": 16,
    "lenVar": 40
   },
   "kernels_config": {
    "python": {
     "delete_cmd_postfix": "",
     "delete_cmd_prefix": "del ",
     "library": "var_list.py",
     "varRefreshCmd": "print(var_dic_list())"
    },
    "r": {
     "delete_cmd_postfix": ") ",
     "delete_cmd_prefix": "rm(",
     "library": "var_list.r",
     "varRefreshCmd": "cat(var_dic_list()) "
    }
   },
   "types_to_exclude": [
    "module",
    "function",
    "builtin_function_or_method",
    "instance",
    "_Feature"
   ],
   "window_display": false
  }
 },
 "nbformat": 4,
 "nbformat_minor": 2
}
